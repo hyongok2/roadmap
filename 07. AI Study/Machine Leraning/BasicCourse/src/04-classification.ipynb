{
 "cells": [
  {
   "attachments": {},
   "cell_type": "markdown",
   "metadata": {},
   "source": [
    "# 4장 분류 알고리즘"
   ]
  },
  {
   "cell_type": "code",
   "execution_count": null,
   "metadata": {},
   "outputs": [],
   "source": [
    "import pandas as pd\n",
    "import numpy as np\n",
    "\n",
    "fish = pd.read_csv('https://bit.ly/fish_csv_data')\n",
    "fish.head()\n",
    "\n",
    "print(fish)"
   ]
  },
  {
   "cell_type": "code",
   "execution_count": null,
   "metadata": {},
   "outputs": [],
   "source": [
    "fish_input = fish[['Weight','Length','Diagonal','Height','Width']].to_numpy()\n",
    "fish_target = fish['Species'].to_numpy()\n",
    "\n",
    "print(pd.unique(fish['Species']))"
   ]
  },
  {
   "cell_type": "code",
   "execution_count": null,
   "metadata": {},
   "outputs": [],
   "source": [
    "# 데이터 만들기\n",
    "\n",
    "from sklearn.model_selection import train_test_split\n",
    "\n",
    "train_input,test_input, train_target,test_target = train_test_split(fish_input,fish_target,random_state=42)\n",
    "\n",
    "from sklearn.preprocessing import StandardScaler\n",
    "\n",
    "ss = StandardScaler()\n",
    "\n",
    "ss.fit(train_input)\n",
    "train_scaled = ss.transform(train_input)\n",
    "test_scaled = ss.transform(test_input)"
   ]
  },
  {
   "cell_type": "code",
   "execution_count": null,
   "metadata": {},
   "outputs": [],
   "source": [
    "#최근접 이웃을 활용한 분류\n",
    "\n",
    "from sklearn.neighbors import KNeighborsClassifier\n",
    "\n",
    "kn = KNeighborsClassifier(n_neighbors=3)\n",
    "kn.fit(train_scaled,train_target)\n",
    "\n",
    "print(kn.classes_)\n",
    "\n",
    "print(kn.predict(test_scaled[:5]))\n",
    "\n",
    "proba = kn.predict_proba(test_scaled[:5])\n",
    "print(np.round(proba,decimals=4))"
   ]
  },
  {
   "cell_type": "code",
   "execution_count": null,
   "metadata": {},
   "outputs": [],
   "source": [
    "# 로지스틱 회귀 (이름만 회귀.. 실제 기능은 분류 알고리즘이다.)\n",
    "\n",
    "# 이진 분류\n",
    "bream_smelt_indexes = (train_target == 'Bream') | (train_target == 'Smelt')\n",
    "\n",
    "#print(bream_smelt_indexes)\n",
    "train_bream_smelt = train_scaled[bream_smelt_indexes]\n",
    "target_bream_smelt = train_target[bream_smelt_indexes]\n",
    "\n",
    "from sklearn.linear_model import LogisticRegression\n",
    "\n",
    "lr = LogisticRegression()\n",
    "lr.fit(train_bream_smelt,target_bream_smelt)\n",
    "\n",
    "print(lr.predict(train_bream_smelt[:5]))\n",
    "\n",
    "print(lr.predict_proba(train_bream_smelt[:5]))\n",
    "\n",
    "print(lr.coef_,lr.intercept_)\n",
    "\n",
    "decisions = lr.decision_function(train_bream_smelt[:5])\n",
    "print(decisions)\n",
    "from scipy.special import expit\n",
    "\n",
    "print(expit(decisions))\n",
    "\n",
    "\n"
   ]
  },
  {
   "cell_type": "code",
   "execution_count": null,
   "metadata": {},
   "outputs": [],
   "source": [
    "# 로지스틱 회귀 (다중분류)\n",
    "\n",
    "# C값은 L2 규제 옵션의 강도 , max_iter 는 반복 횟수  \n",
    "# C값은 커질 수 록 강도가 약해짐. 앞서 봤던 alpha 매개변수와는 반대임. alpha 매개변수는 작을 수 록 강도가 약해졌음.\n",
    "lr =LogisticRegression(C=20,max_iter=1000)\n",
    "lr.fit(train_scaled,train_target)\n",
    "\n",
    "print(lr.score(train_scaled,train_target))\n",
    "print(lr.score(test_scaled,test_target))\n",
    "\n",
    "print(lr.predict(test_scaled[:5]))\n",
    "proba = lr.predict_proba(test_scaled[:5])\n",
    "print(np.round(proba, decimals=3))\n",
    "\n",
    "# 아래를 확인하면 7개의 행이 나오게 되는데, 각 클래스마다 선형 함수가 한개씩 나오게됨.\n",
    "# 각각에 대하여 이진분류처럼 처리됨.\n",
    "print(lr.coef_.shape,lr.intercept_.shape)"
   ]
  },
  {
   "cell_type": "code",
   "execution_count": null,
   "metadata": {},
   "outputs": [],
   "source": [
    "# 소프트 맥스 함수 ( 다중분류에서는 시그모이드 함수 적용이 불가함. )\n",
    "\n",
    "decision = lr.decision_function(test_scaled[:5])\n",
    "print(np.round(decision,decimals=2))\n",
    "\n",
    "from scipy.special import softmax\n",
    "\n",
    "proba = softmax(decision, axis=1)\n",
    "print(np.round(proba,decimals=3))"
   ]
  }
 ],
 "metadata": {
  "kernelspec": {
   "display_name": "Python 3",
   "language": "python",
   "name": "python3"
  },
  "language_info": {
   "codemirror_mode": {
    "name": "ipython",
    "version": 3
   },
   "file_extension": ".py",
   "mimetype": "text/x-python",
   "name": "python",
   "nbconvert_exporter": "python",
   "pygments_lexer": "ipython3",
   "version": "3.10.2"
  },
  "orig_nbformat": 4
 },
 "nbformat": 4,
 "nbformat_minor": 2
}
