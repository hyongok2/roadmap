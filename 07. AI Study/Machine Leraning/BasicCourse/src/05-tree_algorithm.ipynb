{
 "cells": [
  {
   "attachments": {},
   "cell_type": "markdown",
   "metadata": {},
   "source": [
    "# 5장 트리 알고리즘"
   ]
  },
  {
   "cell_type": "code",
   "execution_count": null,
   "metadata": {},
   "outputs": [],
   "source": [
    "import pandas as pd\n",
    "\n",
    "wine = pd.read_csv('https://bit.ly/wine_csv_data')\n",
    "\n",
    "print(wine.info())\n",
    "print(wine.describe())"
   ]
  },
  {
   "cell_type": "code",
   "execution_count": null,
   "metadata": {},
   "outputs": [],
   "source": [
    "data = wine[['alcohol','sugar','pH']].to_numpy()\n",
    "target = wine['class'].to_numpy()\n",
    "\n",
    "from sklearn.model_selection import train_test_split\n",
    "\n",
    "train_input, test_input, train_target,test_target = train_test_split(data,target,test_size=0.2,random_state=42)\n",
    "\n",
    "from sklearn.preprocessing import StandardScaler\n",
    "\n",
    "ss = StandardScaler()\n",
    "\n",
    "ss.fit(train_input)\n",
    "train_scaled = ss.transform(train_input)\n",
    "test_scaled = ss.transform(test_input)\n"
   ]
  },
  {
   "cell_type": "code",
   "execution_count": null,
   "metadata": {},
   "outputs": [],
   "source": [
    "from sklearn.linear_model import LogisticRegression\n",
    "\n",
    "lr = LogisticRegression()\n",
    "lr.fit(train_scaled,train_target)\n",
    "print(lr.score(train_scaled,train_target))\n",
    "print(lr.score(test_scaled,test_target))\n",
    "\n",
    "print(lr.coef_,lr.intercept_)"
   ]
  },
  {
   "attachments": {},
   "cell_type": "markdown",
   "metadata": {},
   "source": [
    "위는 로지스틱 분류 방식인데, 각각의 가중치나 편향에 대한 의미를 직관적으로 알기 힘들다.\n",
    "이러한 관점에서보면 지금부터 진행하는 트리 방식이 직관성이 더 높다. 그럼 진행해 보자."
   ]
  },
  {
   "cell_type": "code",
   "execution_count": null,
   "metadata": {},
   "outputs": [],
   "source": [
    "#결정 트리\n",
    "from sklearn.tree import DecisionTreeClassifier\n",
    "\n",
    "dt = DecisionTreeClassifier(random_state=42)\n",
    "dt.fit(train_scaled,train_target)\n",
    "\n",
    "print(dt.score(train_scaled,train_target))\n",
    "print(dt.score(test_scaled,test_target))\n",
    "\n",
    "import matplotlib.pyplot as plt\n",
    "from sklearn.tree import plot_tree\n",
    "\n",
    "plt.figure(figsize=(10,7))\n",
    "plot_tree(dt)\n",
    "plt.show()"
   ]
  },
  {
   "cell_type": "code",
   "execution_count": null,
   "metadata": {},
   "outputs": [],
   "source": [
    "plt.figure(figsize=(10,7))\n",
    "plot_tree(dt,max_depth=2,filled=True,feature_names=['alcohol','sugar','pH'])\n",
    "plt.show()"
   ]
  },
  {
   "cell_type": "code",
   "execution_count": null,
   "metadata": {},
   "outputs": [],
   "source": [
    "dt = DecisionTreeClassifier(max_depth=3,random_state=42)\n",
    "dt.fit(train_scaled,train_target)\n",
    "\n",
    "print(dt.score(train_scaled,train_target))\n",
    "print(dt.score(test_scaled,test_target))\n",
    "\n",
    "plt.figure(figsize=(20,15))\n",
    "plot_tree(dt,filled=True,feature_names=['alcohol','sugar','pH'])\n",
    "plt.show()"
   ]
  },
  {
   "cell_type": "code",
   "execution_count": null,
   "metadata": {},
   "outputs": [],
   "source": [
    "# Scale 을 조정하지 않은 특성을 그대로 사용하는 편이 더 이해하기 쉬움.\n",
    "\n",
    "dt = DecisionTreeClassifier(max_depth=3,random_state=42)\n",
    "dt.fit(train_input,train_target)\n",
    "\n",
    "print(dt.score(train_input,train_target))\n",
    "print(dt.score(test_input,test_target))\n",
    "\n",
    "plt.figure(figsize=(20,15))\n",
    "plot_tree(dt,filled=True,feature_names=['alcohol','sugar','pH'])\n",
    "plt.show()\n",
    "\n",
    "print(dt.feature_importances_)"
   ]
  },
  {
   "cell_type": "code",
   "execution_count": null,
   "metadata": {},
   "outputs": [],
   "source": [
    "# 검증 세트(교차 검증을 위하여 세트를 3가지로 분할함.)\n",
    "\n",
    "train_input, test_input, train_target,test_target = train_test_split(data,target,test_size=0.2,random_state=42)\n",
    "sub_input, val_input, sub_target,val_target = train_test_split(train_input,train_target,test_size=0.2,random_state=42)"
   ]
  },
  {
   "cell_type": "code",
   "execution_count": null,
   "metadata": {},
   "outputs": [],
   "source": [
    "dt = DecisionTreeClassifier(random_state=42)\n",
    "\n",
    "dt.fit(sub_input,sub_target)\n",
    "\n",
    "print(dt.score(sub_input,sub_target))\n",
    "print(dt.score(val_input,val_target))\n",
    "\n",
    "\n",
    "from sklearn.model_selection import cross_validate\n",
    "\n",
    "scores = cross_validate(dt,train_input,train_target) #5개의 검증 폴드로 분류하여, 검증.\n",
    "\n",
    "print(scores)\n",
    "\n",
    "import numpy as np\n",
    "\n",
    "\n",
    "print(np.mean(scores['test_score']))"
   ]
  },
  {
   "cell_type": "code",
   "execution_count": null,
   "metadata": {},
   "outputs": [],
   "source": [
    "from sklearn.model_selection import StratifiedKFold\n",
    "scores = cross_validate(dt,train_input,train_target,cv=StratifiedKFold())\n",
    "print(np.mean(scores['test_score']))\n",
    "\n",
    "splitter = StratifiedKFold(n_splits=10,shuffle=True,random_state=42)\n",
    "scores = cross_validate(dt,train_input,train_target,cv=splitter)\n",
    "print(np.mean(scores['test_score']))"
   ]
  },
  {
   "cell_type": "code",
   "execution_count": null,
   "metadata": {},
   "outputs": [],
   "source": [
    "# 그리드 서치\n",
    "\n",
    "from sklearn.model_selection import GridSearchCV\n",
    "\n",
    "params = {'min_impurity_decrease':[0.0001,0.0002,0.0003,0.0004,0.0005]}\n",
    "\n",
    "gs = GridSearchCV(DecisionTreeClassifier(random_state=42),params,n_jobs=1)\n",
    "gs.fit(train_input,train_target)\n",
    "\n",
    "dt = gs.best_estimator_\n",
    "print(dt.score(train_input,train_target))\n",
    "\n",
    "print(gs.best_params_)\n",
    "\n",
    "print(gs.cv_results_['mean_test_score'])"
   ]
  },
  {
   "cell_type": "code",
   "execution_count": null,
   "metadata": {},
   "outputs": [],
   "source": [
    "params = {'min_impurity_decrease':np.arange(0.0001,0.001,0.0001),\n",
    "          'max_depth':range(5,20,1),\n",
    "          'min_samples_split': range(2,100,10)\n",
    "          }\n",
    "\n",
    "gs = GridSearchCV(DecisionTreeClassifier(random_state=42),params,n_jobs=1)\n",
    "gs.fit(train_input,train_target)\n",
    "\n",
    "dt = gs.best_estimator_\n",
    "print(dt.score(train_input,train_target))\n",
    "\n",
    "print(gs.best_params_)\n",
    "\n",
    "print(gs.cv_results_['mean_test_score'])"
   ]
  },
  {
   "cell_type": "code",
   "execution_count": null,
   "metadata": {},
   "outputs": [],
   "source": [
    "# 확률 분포 선택\n",
    "\n",
    "from scipy.stats import uniform, randint\n",
    "\n",
    "rgen = randint(0,10)\n",
    "rgen.rvs(10)\n",
    "\n",
    "np.unique(rgen.rvs(1000), return_counts=True)\n",
    "\n",
    "ugen = uniform(0,1)\n",
    "\n",
    "ugen.rvs(10)\n",
    "\n"
   ]
  },
  {
   "cell_type": "code",
   "execution_count": null,
   "metadata": {},
   "outputs": [],
   "source": [
    "# Random Search\n",
    "\n",
    "params = {'min_impurity_decrease':uniform(0.0001,0.001),\n",
    "          'max_depth': randint(20,50),\n",
    "          'min_samples_split': range(2,25),\n",
    "          'min_samples_leaf': range(1,25)\n",
    "          }\n",
    "\n",
    "from sklearn.model_selection import RandomizedSearchCV\n",
    "\n",
    "gs = RandomizedSearchCV(DecisionTreeClassifier(random_state=42),params,\n",
    "                        n_iter=100,n_jobs=-1,random_state=42)\n",
    "gs.fit(train_input,train_target)\n",
    "\n",
    "\n",
    "print(gs.best_params_)\n",
    "print(np.max(gs.cv_results_['mean_test_score']))\n",
    "\n",
    "dt = (gs.best_estimator_)\n",
    "\n",
    "print(dt.score(test_input,test_target))"
   ]
  }
 ],
 "metadata": {
  "kernelspec": {
   "display_name": "Python 3",
   "language": "python",
   "name": "python3"
  },
  "language_info": {
   "codemirror_mode": {
    "name": "ipython",
    "version": 3
   },
   "file_extension": ".py",
   "mimetype": "text/x-python",
   "name": "python",
   "nbconvert_exporter": "python",
   "pygments_lexer": "ipython3",
   "version": "3.10.2"
  },
  "orig_nbformat": 4
 },
 "nbformat": 4,
 "nbformat_minor": 2
}
