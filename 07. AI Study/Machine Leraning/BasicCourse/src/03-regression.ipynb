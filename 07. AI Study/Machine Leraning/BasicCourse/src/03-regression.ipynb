{
 "cells": [
  {
   "attachments": {},
   "cell_type": "markdown",
   "metadata": {},
   "source": [
    "# 3강 회귀 문제"
   ]
  },
  {
   "cell_type": "code",
   "execution_count": null,
   "metadata": {},
   "outputs": [],
   "source": [
    "import numpy as np\n",
    "\n",
    "perch_length = np.array([8.4, 13.7, 15.0, 16.2, 17.4, 18.0, 18.7, 19.0, 19.6, 20.0, 21.0,\n",
    "       21.0, 21.0, 21.3, 22.0, 22.0, 22.0, 22.0, 22.0, 22.5, 22.5, 22.7,\n",
    "       23.0, 23.5, 24.0, 24.0, 24.6, 25.0, 25.6, 26.5, 27.3, 27.5, 27.5,\n",
    "       27.5, 28.0, 28.7, 30.0, 32.8, 34.5, 35.0, 36.5, 36.0, 37.0, 37.0,\n",
    "       39.0, 39.0, 39.0, 40.0, 40.0, 40.0, 40.0, 42.0, 43.0, 43.0, 43.5,\n",
    "       44.0])\n",
    "perch_weight = np.array([5.9, 32.0, 40.0, 51.5, 70.0, 100.0, 78.0, 80.0, 85.0, 85.0, 110.0,\n",
    "       115.0, 125.0, 130.0, 120.0, 120.0, 130.0, 135.0, 110.0, 130.0,\n",
    "       150.0, 145.0, 150.0, 170.0, 225.0, 145.0, 188.0, 180.0, 197.0,\n",
    "       218.0, 300.0, 260.0, 265.0, 250.0, 250.0, 300.0, 320.0, 514.0,\n",
    "       556.0, 840.0, 685.0, 700.0, 700.0, 690.0, 900.0, 650.0, 820.0,\n",
    "       850.0, 900.0, 1015.0, 820.0, 1100.0, 1000.0, 1100.0, 1000.0,\n",
    "       1000.0])"
   ]
  },
  {
   "cell_type": "code",
   "execution_count": null,
   "metadata": {},
   "outputs": [],
   "source": [
    "import matplotlib.pyplot as plt\n",
    "\n",
    "plt.scatter(perch_length,perch_weight)\n",
    "plt.xlabel('length')\n",
    "plt.ylabel('weight')\n",
    "plt.show()"
   ]
  },
  {
   "cell_type": "code",
   "execution_count": null,
   "metadata": {},
   "outputs": [],
   "source": [
    "from sklearn.model_selection import train_test_split\n",
    "\n",
    "train_input, test_input, train_target,test_target = train_test_split(perch_length,perch_weight,random_state=42)\n",
    "\n",
    "# 훈련데이터는 배열을 2차원 배열로 변환\n",
    "\n",
    "print(train_input)\n",
    "train_input = train_input.reshape(-1,1)\n",
    "test_input = test_input.reshape(-1,1)\n",
    "print(train_input)"
   ]
  },
  {
   "cell_type": "code",
   "execution_count": null,
   "metadata": {},
   "outputs": [],
   "source": [
    "from sklearn.neighbors import KNeighborsRegressor\n",
    "\n",
    "knr = KNeighborsRegressor()\n",
    "knr.fit(train_input,train_target)\n",
    "\n",
    "print(knr.score(train_input,train_target))\n",
    "\n",
    "# R^2 값인데, 1에 가까우면 좋은 값이다.\n",
    "print(knr.score(test_input,test_target))\n",
    "\n",
    "from sklearn.metrics import mean_absolute_error\n",
    "\n",
    "test_prediction = knr.predict(test_input)\n",
    "mae = mean_absolute_error(test_target,test_prediction)\n",
    "print(mae)\n",
    "\n",
    "diff = (test_target  - test_prediction) / test_target\n",
    "\n",
    "print(diff)"
   ]
  },
  {
   "cell_type": "code",
   "execution_count": null,
   "metadata": {},
   "outputs": [],
   "source": [
    "predict_value = knr.predict([[35.6],])\n",
    "\n",
    "plt.scatter(train_input[:,0],train_target)\n",
    "plt.scatter(test_input[:,0],test_target,marker='D')\n",
    "plt.scatter([35.6],predict_value,marker='^')\n",
    "plt.xlabel('length')\n",
    "plt.ylabel('weight')\n",
    "plt.show()"
   ]
  },
  {
   "cell_type": "code",
   "execution_count": null,
   "metadata": {},
   "outputs": [],
   "source": [
    "# 이웃 갯수를 줄이기\n",
    "print('n_neighbors:',knr.n_neighbors) # 기존에 5였음\n",
    "knr.n_neighbors = 3\n",
    "knr.fit(train_input,train_target)\n",
    "\n",
    "print(knr.predict([[35.6],]))\n",
    "\n",
    "print(knr.score(train_input,train_target))\n",
    "\n",
    "print(knr.score(test_input,test_target))"
   ]
  },
  {
   "cell_type": "code",
   "execution_count": null,
   "metadata": {},
   "outputs": [],
   "source": [
    "# 아래는 최근접 이웃 회귀의 문제점을 보여 준다.\n",
    "# Data가 큰 경우 최근접 이웃 회귀는 비정상 예측을 할 수 밖에 없다.\n",
    "distances, indexes = knr.kneighbors([[50]])\n",
    "\n",
    "print(knr.predict([[50]]))\n",
    "\n",
    "plt.scatter(train_input,train_target)\n",
    "plt.scatter(train_input[indexes],train_target[indexes],marker='D')\n",
    "plt.scatter(50,1033.333,marker='^')\n"
   ]
  },
  {
   "cell_type": "code",
   "execution_count": null,
   "metadata": {},
   "outputs": [],
   "source": [
    "# 선형 회귀\n",
    "\n",
    "from sklearn.linear_model import LinearRegression\n",
    "\n",
    "lr = LinearRegression()\n",
    "\n",
    "lr.fit(train_input,train_target)\n",
    "\n",
    "find_value = 50\n",
    "\n",
    "print(lr.predict([[find_value]]))\n",
    "\n",
    "# 1차 방정식의 기울기와 Y절편 \n",
    "print(lr.coef_,lr.intercept_)\n",
    "\n",
    "plt.scatter(train_input,train_target)\n",
    "plt.scatter(train_input[indexes],train_target[indexes],marker='D')\n",
    "plt.scatter(find_value,lr.predict([[find_value]]),marker='^')\n",
    "\n",
    "plt.plot([15,50],[15*lr.coef_+lr.intercept_,50*lr.coef_+lr.intercept_])\n",
    "\n",
    "print(lr.score(train_input,train_target))\n",
    "print(lr.score(test_input,test_target))\n",
    "\n",
    "\n",
    "# 큰 값의 경우 그럴듯한 결과를 보여주지만, 아주 작은 값은 이상한 값을 찍게 된다. \n",
    "# 선형회귀가 무조건 좋은 것은 아니다."
   ]
  },
  {
   "cell_type": "code",
   "execution_count": null,
   "metadata": {},
   "outputs": [],
   "source": [
    "# 다항 회귀\n",
    "\n",
    "# X^2 항과 X항을 만든다.\n",
    "train_poly = np.column_stack((train_input**2,train_input))\n",
    "test_poly = np.column_stack((test_input**2,test_input))\n",
    "\n",
    "lr =LinearRegression()\n",
    "lr.fit(train_poly,train_target)\n",
    "find_value = 50\n",
    "print(lr.predict([[find_value**2,find_value]])) # 이렇게 하면 상당히 예측값이 달라진다.\n",
    "\n",
    "print(lr.coef_,lr.intercept_)\n",
    "\n",
    "plt.scatter(train_input,train_target)\n",
    "plt.scatter(train_input[indexes],train_target[indexes],marker='D')\n",
    "plt.scatter(find_value,lr.predict([[find_value**2,find_value]]),marker='^')\n",
    "\n",
    "# 훨씬 좋은 결과를 얻게 된다.\n",
    "print(lr.score(train_poly,train_target))\n",
    "print(lr.score(test_poly,test_target))\n",
    "\n",
    "\n"
   ]
  },
  {
   "cell_type": "code",
   "execution_count": null,
   "metadata": {},
   "outputs": [],
   "source": [
    "# 2차 방정식 그래프를 그리기 위한 정수 배열 생성\n",
    "point = np.arange(15,50)\n",
    "plt.scatter(train_input,train_target)\n",
    "\n",
    "#15 ~ 49까지 2차 방정식 그래프를 그린다.\n",
    "plt.plot(point,1.01*point**2 - 21.6*point + 116.05) # 앞에서 구한 값\n",
    "\n",
    "plt.scatter(find_value,lr.predict([[find_value**2,find_value]]),marker='^')\n",
    "plt.show()"
   ]
  }
 ],
 "metadata": {
  "kernelspec": {
   "display_name": "Python 3",
   "language": "python",
   "name": "python3"
  },
  "language_info": {
   "codemirror_mode": {
    "name": "ipython",
    "version": 3
   },
   "file_extension": ".py",
   "mimetype": "text/x-python",
   "name": "python",
   "nbconvert_exporter": "python",
   "pygments_lexer": "ipython3",
   "version": "3.10.2"
  },
  "orig_nbformat": 4
 },
 "nbformat": 4,
 "nbformat_minor": 2
}
