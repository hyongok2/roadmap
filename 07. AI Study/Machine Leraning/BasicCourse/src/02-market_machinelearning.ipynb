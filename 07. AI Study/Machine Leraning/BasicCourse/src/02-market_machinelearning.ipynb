{
 "cells": [
  {
   "attachments": {},
   "cell_type": "markdown",
   "metadata": {},
   "source": [
    "# 3강 마켓과 머신러닝"
   ]
  },
  {
   "attachments": {},
   "cell_type": "markdown",
   "metadata": {},
   "source": [
    "* 아래는 전통적인 프로그래밍"
   ]
  },
  {
   "cell_type": "code",
   "execution_count": null,
   "metadata": {},
   "outputs": [],
   "source": [
    "fish_length = 30\n",
    "if fish_length >= 30 :\n",
    " print('도미')"
   ]
  },
  {
   "attachments": {},
   "cell_type": "markdown",
   "metadata": {},
   "source": [
    "* 본 강의는 도미 vs 빙어를 분류함.\n",
    "2개의 클래스 / 분류 / 이진 분류(binary classification) <- 이 키워드가 핵심"
   ]
  },
  {
   "cell_type": "code",
   "execution_count": null,
   "metadata": {},
   "outputs": [],
   "source": [
    "bream_length = [30.3,29.6,38,26,28.4,28.8,35.4,30.9,40.9,38.2,33.8,26.4,33.8,29.3,30.9,25.5,38.5,27.8,37.8,40.3,35.5,35.2,32.7,36.6,37.1,35.1,39.3,34.2,28,28,36.1,41,38.7,39.9,25.9,27.6,29.8,28.1,37.6]\n",
    "bream_weight = [303,325.6,342,286,284,316.8,283.2,247.2,449.9,343.8,304.2,264,338,234.4,309,229.5,308,333.6,302.4,443.3,390.5,422.4,392.4,292.8,296.8,280.8,393,376.2,336,280,361,369,348.3,399,207.2,303.6,238.4,252.9,413.6]\n",
    "\n",
    "smelt_legth = [13.4,14.5,14.5,12.1,11.4,10.5,14.9,13.6,12.1,13.6,14.3,13,12,14.7,11.1,14.2,13.5,9.9,12.3,11.6,12.7,14.5,10.6,12.6,11.2,13.1,13.2,11.9,12.4,11.3]\n",
    "smet_weight = [16.08,13.05,17.4,14.52,9.12,11.55,17.88,14.96,13.31,9.52,10.01,15.6,8.4,14.7,13.32,12.78,14.85,8.91,14.76,15.08,15.24,11.6,13.78,15.12,14.56,17.03,9.24,8.33,8.68,13.56]\n",
    "\n",
    "import matplotlib.pyplot as plt\n",
    "\n",
    "plt.scatter(bream_length,bream_weight)\n",
    "plt.scatter(smelt_legth,smet_weight)\n",
    "plt.xlabel('length')\n",
    "plt.ylabel('weight')\n",
    "plt.show()"
   ]
  },
  {
   "cell_type": "code",
   "execution_count": null,
   "metadata": {},
   "outputs": [],
   "source": [
    "length = bream_length + smelt_legth\n",
    "weight = bream_weight + smet_weight\n",
    "\n",
    "fish_data = [[l,w] for l,w in zip(length,weight)]\n",
    "\n",
    "print(fish_data)\n",
    "\n",
    "print(len(bream_length))\n",
    "print(len(smelt_legth))\n",
    "\n",
    "fish_target = [1]*39 + [0]*30\n",
    "\n",
    "print(fish_target)"
   ]
  },
  {
   "cell_type": "code",
   "execution_count": 44,
   "metadata": {},
   "outputs": [
    {
     "data": {
      "text/plain": [
       "array([1])"
      ]
     },
     "execution_count": 44,
     "metadata": {},
     "output_type": "execute_result"
    }
   ],
   "source": [
    "from sklearn.neighbors import KNeighborsClassifier\n",
    "\n",
    "kn = KNeighborsClassifier()\n",
    "\n",
    "kn.fit(fish_data,fish_target) # 모델 \n",
    "kn.score(fish_data,fish_target) # 정답률\n",
    "\n",
    "kn.predict([[30,600]])"
   ]
  },
  {
   "cell_type": "code",
   "execution_count": 51,
   "metadata": {},
   "outputs": [
    {
     "data": {
      "text/plain": [
       "0.5652173913043478"
      ]
     },
     "execution_count": 51,
     "metadata": {},
     "output_type": "execute_result"
    }
   ],
   "source": [
    "kn69 =KNeighborsClassifier(n_neighbors=69) #전부다 도미로 설정 <- 아직 잘 모르겠음.\n",
    "kn69.fit(fish_data,fish_target) # 모델 \n",
    "kn69.score(fish_data,fish_target) # 정답률"
   ]
  },
  {
   "cell_type": "code",
   "execution_count": 52,
   "metadata": {},
   "outputs": [
    {
     "name": "stdout",
     "output_type": "stream",
     "text": [
      "0.5652173913043478\n"
     ]
    }
   ],
   "source": [
    "print(39/69)"
   ]
  }
 ],
 "metadata": {
  "kernelspec": {
   "display_name": "Python 3",
   "language": "python",
   "name": "python3"
  },
  "language_info": {
   "codemirror_mode": {
    "name": "ipython",
    "version": 3
   },
   "file_extension": ".py",
   "mimetype": "text/x-python",
   "name": "python",
   "nbconvert_exporter": "python",
   "pygments_lexer": "ipython3",
   "version": "3.10.2"
  },
  "orig_nbformat": 4
 },
 "nbformat": 4,
 "nbformat_minor": 2
}
