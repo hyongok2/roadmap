{
 "cells": [
  {
   "attachments": {},
   "cell_type": "markdown",
   "metadata": {},
   "source": [
    "# 3강 마켓과 머신러닝"
   ]
  },
  {
   "attachments": {},
   "cell_type": "markdown",
   "metadata": {},
   "source": [
    "* 아래는 전통적인 프로그래밍"
   ]
  },
  {
   "cell_type": "code",
   "execution_count": null,
   "metadata": {},
   "outputs": [],
   "source": [
    "fish_length = 30\n",
    "if fish_length >= 30 :\n",
    " print('도미')"
   ]
  },
  {
   "attachments": {},
   "cell_type": "markdown",
   "metadata": {},
   "source": [
    "* 본 강의는 도미 vs 빙어를 분류함.\n",
    "2개의 클래스 / 분류 / 이진 분류(binary classification) <- 이 키워드가 핵심"
   ]
  },
  {
   "cell_type": "code",
   "execution_count": null,
   "metadata": {},
   "outputs": [],
   "source": [
    "bream_length = [30.3,29.6,38,26,28.4,28.8,35.4,30.9,40.9,38.2,33.8,26.4,33.8,29.3,30.9,25.5,38.5,27.8,37.8,40.3,35.5,35.2,32.7,36.6,37.1,35.1,39.3,34.2,28,28,36.1,41,38.7,39.9,25.9,27.6,29.8,28.1,37.6]\n",
    "bream_weight = [303,325.6,342,286,284,316.8,283.2,247.2,449.9,343.8,304.2,264,338,234.4,309,229.5,308,333.6,302.4,443.3,390.5,422.4,392.4,292.8,296.8,280.8,393,376.2,336,280,361,369,348.3,399,207.2,303.6,238.4,252.9,413.6]\n",
    "\n",
    "smelt_legth = [13.4,14.5,14.5,12.1,11.4,10.5,14.9,13.6,12.1,13.6,14.3,13,12,14.7,11.1,14.2,13.5,9.9,12.3,11.6,12.7,14.5,10.6,12.6,11.2,13.1,13.2,11.9,12.4,11.3]\n",
    "smet_weight = [16.08,13.05,17.4,14.52,9.12,11.55,17.88,14.96,13.31,9.52,10.01,15.6,8.4,14.7,13.32,12.78,14.85,8.91,14.76,15.08,15.24,11.6,13.78,15.12,14.56,17.03,9.24,8.33,8.68,13.56]\n",
    "\n",
    "import matplotlib.pyplot as plt\n",
    "\n",
    "plt.scatter(bream_length,bream_weight)\n",
    "plt.scatter(smelt_legth,smet_weight)\n",
    "plt.xlabel('length')\n",
    "plt.ylabel('weight')\n",
    "plt.show()"
   ]
  },
  {
   "cell_type": "code",
   "execution_count": null,
   "metadata": {},
   "outputs": [],
   "source": [
    "length = bream_length + smelt_legth\n",
    "weight = bream_weight + smet_weight\n",
    "\n",
    "fish_data = [[l,w] for l,w in zip(length,weight)]\n",
    "\n",
    "print(fish_data)\n",
    "\n",
    "print(len(bream_length))\n",
    "print(len(smelt_legth))\n",
    "\n",
    "fish_target = [1]*39 + [0]*30\n",
    "\n",
    "print(fish_target)"
   ]
  },
  {
   "cell_type": "code",
   "execution_count": null,
   "metadata": {},
   "outputs": [],
   "source": [
    "from sklearn.neighbors import KNeighborsClassifier\n",
    "\n",
    "kn = KNeighborsClassifier()\n",
    "\n",
    "kn.fit(fish_data,fish_target) # 모델 \n",
    "kn.score(fish_data,fish_target) # 정답률\n",
    "\n",
    "kn.predict([[30,600]])"
   ]
  },
  {
   "cell_type": "code",
   "execution_count": null,
   "metadata": {},
   "outputs": [],
   "source": [
    "kn69 =KNeighborsClassifier(n_neighbors=61) #이웃그룹의 수량을 설정하는 것 같다.\n",
    "kn69.fit(fish_data,fish_target) # 모델 \n",
    "kn69.score(fish_data,fish_target) # 정답률"
   ]
  },
  {
   "cell_type": "code",
   "execution_count": null,
   "metadata": {},
   "outputs": [],
   "source": [
    "print(39/69)"
   ]
  },
  {
   "attachments": {},
   "cell_type": "markdown",
   "metadata": {},
   "source": [
    "# 4장 훈련 세트와 테스트 세트로 나우어 사용하기"
   ]
  },
  {
   "cell_type": "code",
   "execution_count": null,
   "metadata": {},
   "outputs": [],
   "source": [
    "train_input = fish_data[:39]\n",
    "train_target = fish_target[:39]\n",
    "\n",
    "test_input = fish_data[39:]\n",
    "test_target = fish_target[39:]\n",
    "\n",
    "# 이런 문제를 샘플링 편향의 문제라고 한다.\n",
    "# 이 경우는 당연하게.. 0이 나온다. 왜냐면 39 / 30 으로 했기 때문에\n",
    "\n",
    "kn.fit(train_input,train_target) # 모델 \n",
    "kn.score(test_input,test_target) # 정답률"
   ]
  },
  {
   "cell_type": "code",
   "execution_count": null,
   "metadata": {},
   "outputs": [],
   "source": [
    "train_input = fish_data[:59]\n",
    "train_target = fish_target[:59]\n",
    "\n",
    "test_input = fish_data[59:]\n",
    "test_target = fish_target[59:]\n",
    "\n",
    "kn.fit(train_input,train_target) # 모델 \n",
    "kn.score(test_input,test_target) # 정답률"
   ]
  },
  {
   "cell_type": "code",
   "execution_count": null,
   "metadata": {},
   "outputs": [],
   "source": [
    "# numpy를 이용한 배열 섞기\n",
    "\n",
    "import numpy as np\n",
    "\n",
    "input_arr = np.array(fish_data)\n",
    "target_arr = np.array(fish_target)\n",
    "\n",
    "np.random.seed(42)\n",
    "index = np.arange(69)\n",
    "np.random.shuffle(index)\n",
    "\n",
    "train_input = input_arr[index[:40]]\n",
    "train_target = target_arr[index[:40]]\n",
    "\n",
    "test_input = input_arr[index[40:]]\n",
    "test_target = target_arr[index[40:]]\n",
    "\n",
    "\n",
    "kn= kn.fit(train_input,train_target) # 모델 \n",
    "result = kn.score(test_input,test_target) # 정답률\n",
    "\n",
    "print('result :',result)\n",
    "\n",
    "plt.scatter(train_input[:, 0],train_input[: ,1])\n",
    "plt.scatter(test_input[:, 0],test_input[:, 1])\n",
    "plt.xlabel('length')\n",
    "plt.ylabel('weight')\n",
    "plt.show()"
   ]
  },
  {
   "cell_type": "code",
   "execution_count": null,
   "metadata": {},
   "outputs": [],
   "source": [
    "# numpy를 이용하여 Data 처리\n",
    "\n",
    "fish_data = np.column_stack((length,weight))\n",
    "\n",
    "fish_target = np.concatenate((np.ones(len(bream_length)),np.zeros(len(smelt_legth))))\n",
    "\n",
    "from sklearn.model_selection import train_test_split\n",
    "\n",
    "train_input, test_input, train_target, test_target = train_test_split(\n",
    "    fish_data,fish_target,stratify=fish_target,random_state=42)\n",
    "\n",
    "kn = KNeighborsClassifier(n_neighbors=5)\n",
    "kn.fit(train_input,train_target)\n",
    "kn.score(test_input,test_target)\n",
    "\n",
    "sample_length = 20\n",
    "sample_weight = 150\n",
    "\n",
    "print(kn.predict([[sample_length,sample_weight]]))\n",
    "\n",
    "distances, indexes = kn.kneighbors([[sample_length,sample_weight]])\n",
    "\n",
    "plt.scatter(train_input[:,0],train_input[:,1])\n",
    "plt.scatter(sample_length,sample_weight,marker='^')\n",
    "plt.scatter(train_input[indexes,0],train_input[indexes,1],marker='D')\n",
    "plt.show()\n"
   ]
  }
 ],
 "metadata": {
  "kernelspec": {
   "display_name": "Python 3",
   "language": "python",
   "name": "python3"
  },
  "language_info": {
   "codemirror_mode": {
    "name": "ipython",
    "version": 3
   },
   "file_extension": ".py",
   "mimetype": "text/x-python",
   "name": "python",
   "nbconvert_exporter": "python",
   "pygments_lexer": "ipython3",
   "version": "3.10.2"
  },
  "orig_nbformat": 4
 },
 "nbformat": 4,
 "nbformat_minor": 2
}
