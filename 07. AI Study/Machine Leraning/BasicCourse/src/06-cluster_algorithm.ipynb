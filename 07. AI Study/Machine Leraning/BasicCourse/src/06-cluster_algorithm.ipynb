{
 "cells": [
  {
   "cell_type": "markdown",
   "metadata": {},
   "source": [
    "# 비지도 학습 군집 알고리즘"
   ]
  },
  {
   "cell_type": "code",
   "execution_count": null,
   "metadata": {},
   "outputs": [],
   "source": [
    "import numpy as np\n",
    "import matplotlib.pyplot as plt\n",
    "\n",
    "fruits = np.load('fruits_300.npy')\n",
    "print(fruits.shape)\n",
    "\n",
    "print(fruits[0,0,:])\n",
    "\n",
    "plt.imshow(fruits[0],cmap='gray')\n",
    "plt.show()\n",
    "\n",
    "plt.imshow(fruits[0],cmap='gray_r')\n",
    "plt.show()\n"
   ]
  },
  {
   "cell_type": "code",
   "execution_count": null,
   "metadata": {},
   "outputs": [],
   "source": [
    "apple = fruits[0:100].reshape(-1,100*100)\n",
    "pineapple = fruits[100:200].reshape(-1,100*100)\n",
    "banana = fruits[200:300].reshape(-1,100*100)\n",
    "\n",
    "print(apple)\n",
    "\n",
    "plt.hist(np.mean(apple, axis=1),alpha=0.8)\n",
    "plt.hist(np.mean(pineapple, axis=1),alpha=0.8)\n",
    "plt.hist(np.mean(banana, axis=1),alpha=0.8)\n",
    "plt.legend(['apple','pineapple','banana'])\n",
    "plt.show()"
   ]
  },
  {
   "cell_type": "code",
   "execution_count": null,
   "metadata": {},
   "outputs": [],
   "source": [
    "fig, axs = plt.subplots(1,3,figsize=(20,5))\n",
    "axs[0].bar(range(10000),np.mean(apple,axis=0)) # axis = 0의 의미는 열을 의미함.\n",
    "axs[1].bar(range(10000),np.mean(pineapple,axis=0))\n",
    "axs[2].bar(range(10000),np.mean(banana,axis=0))\n",
    "plt.show()"
   ]
  },
  {
   "cell_type": "code",
   "execution_count": null,
   "metadata": {},
   "outputs": [],
   "source": [
    "apple_mean = np.mean(apple,axis = 0).reshape(100,100)\n",
    "pineapple_mean = np.mean(pineapple,axis = 0).reshape(100,100)\n",
    "banana_mean = np.mean(banana,axis = 0).reshape(100,100)\n",
    "\n",
    "fig, axs = plt.subplots(1,3,figsize=(20,5))\n",
    "axs[0].imshow(apple_mean,cmap='gray_r')\n",
    "axs[1].imshow(pineapple_mean,cmap='gray_r')\n",
    "axs[2].imshow(banana_mean,cmap='gray_r')\n",
    "plt.show()"
   ]
  },
  {
   "cell_type": "code",
   "execution_count": null,
   "metadata": {},
   "outputs": [],
   "source": [
    "abs_diff = np.abs(fruits - apple_mean)\n",
    "abs_mean = np.mean(abs_diff,axis=(1,2))\n",
    "print(abs_mean.shape)\n",
    "\n",
    "apple_index = np.argsort(abs_mean)[:100]\n",
    "\n",
    "fig, axs = plt.subplots(10,10,figsize=(10,10))\n",
    "\n",
    "for i in range(10):\n",
    "    for j in range(10):\n",
    "        axs[i, j].imshow(fruits[apple_index[i*10+j]],cmap='gray_r')\n",
    "        axs[i, j].axis('off')\n",
    "plt.show()"
   ]
  },
  {
   "cell_type": "markdown",
   "metadata": {},
   "source": [
    "* 오늘의 학습은 비지도 학습의 시작이었지만, 실제로는 우리가 타겟을 알고 있었기 때문에\n",
    " 완전한 비지도 학습이라고 하기 어려운 Case 였다고 생각된다."
   ]
  }
 ],
 "metadata": {
  "kernelspec": {
   "display_name": "Python 3",
   "language": "python",
   "name": "python3"
  },
  "language_info": {
   "codemirror_mode": {
    "name": "ipython",
    "version": 3
   },
   "file_extension": ".py",
   "mimetype": "text/x-python",
   "name": "python",
   "nbconvert_exporter": "python",
   "pygments_lexer": "ipython3",
   "version": "3.10.2"
  },
  "orig_nbformat": 4
 },
 "nbformat": 4,
 "nbformat_minor": 2
}
